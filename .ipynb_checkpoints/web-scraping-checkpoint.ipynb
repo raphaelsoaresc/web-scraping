{
 "cells": [
  {
   "cell_type": "markdown",
   "metadata": {},
   "source": [
    "# Projeto 2 - Como pegar dados de um site com Python? - Pegando dados de ETFs do mundo inteiro.¶\n",
    "**Desafio:**\n",
    "Construir um código que vá no site etf.com e busque dados de todos os etfs do mercado americano e, consequentemente, do mundo. Rentabilidades, patrimônio, gestora, taxa...\n",
    "Lembrar de sempre trazer outros tipos de cenários onde a pessoa precisa pegar dados de sites etc.\n",
    "**Passo a passo:**\n",
    "**Passo 1** - Definir um navegador que você irá utilizar para navegar com o Python.\n",
    "\n",
    "**Passo 2** - Importar os módulos e bibliotecas.\n",
    "\n",
    "**Passo 3** - Entender como funcionam requisições na internet.\n",
    "\n",
    "**Passo 4** - Conhecer e mapear o processo de coleta de dados no site do ETF.com.\n",
    "\n",
    "Passo 5 - Achar todos os elementos necessários dentro do HTML do site.\n",
    "\n",
    "Passo 6 - Ler a tabela de dados.\n",
    "\n",
    "Passo 7 - Construir a tabela final.\n"
   ]
  },
  {
   "cell_type": "code",
   "execution_count": null,
   "metadata": {},
   "outputs": [],
   "source": []
  },
  {
   "cell_type": "code",
   "execution_count": null,
   "metadata": {},
   "outputs": [],
   "source": []
  }
 ],
 "metadata": {
  "kernelspec": {
   "display_name": "Python 3 (ipykernel)",
   "language": "python",
   "name": "python3"
  },
  "language_info": {
   "codemirror_mode": {
    "name": "ipython",
    "version": 3
   },
   "file_extension": ".py",
   "mimetype": "text/x-python",
   "name": "python",
   "nbconvert_exporter": "python",
   "pygments_lexer": "ipython3",
   "version": "3.9.2"
  }
 },
 "nbformat": 4,
 "nbformat_minor": 2
}
