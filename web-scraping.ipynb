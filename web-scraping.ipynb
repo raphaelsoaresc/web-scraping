{
 "cells": [
  {
   "cell_type": "markdown",
   "metadata": {},
   "source": [
    "# Projeto 2 - Como pegar dados de um site com Python? - Pegando dados de ETFs do mundo inteiro.\n",
    "**Desafio:**\n",
    "Construir um código que vá no site etf.com e busque dados de todos os etfs do mercado americano e, consequentemente, do mundo. Rentabilidades, patrimônio, gestora, taxa...\n",
    "Lembrar de sempre trazer outros tipos de cenários onde a pessoa precisa pegar dados de sites etc.\n",
    "\n",
    "**Passo a passo:**\n",
    "\n",
    "**Passo 1** - Definir um navegador que você irá utilizar para navegar com o Python.\n",
    "\n",
    "**Passo  2** - Importar os módulos e bibliotecas.\n",
    "\n",
    "**Passo 3** - Entender como funcionam requisições na internet.\n",
    "\n",
    "**Passo 4** - Conhecer e mapear o processo de coleta de dados no site do ETF.com.\n",
    "\n",
    "**Passo 5** - Achar todos os elementos necessários dentro do HTML do site.\n",
    "\n",
    "**Passo 6**- Ler a tabela de dados.\n",
    "\n",
    "**Passo 7** - Construir a tabela final.\n"
   ]
  },
  {
   "cell_type": "markdown",
   "metadata": {},
   "source": [
    "# Passo 1: Escolher o navegador.\n",
    "\n",
    "Usaremos o Google Chrome."
   ]
  },
  {
   "cell_type": "markdown",
   "metadata": {},
   "source": [
    "# Passo 2: Importar as bibliotecas."
   ]
  },
  {
   "cell_type": "code",
   "execution_count": 16,
   "metadata": {},
   "outputs": [],
   "source": [
    "from selenium import webdriver\n",
    "from selenium.webdriver.chrome.service import Service\n",
    "from webdriver_manager.chrome import ChromeDriverManager\n",
    "import time\n",
    "import pandas as pd\n",
    "import re"
   ]
  },
  {
   "cell_type": "markdown",
   "metadata": {},
   "source": [
    "# Passo 3: Entender como funcionam requisições na internet."
   ]
  },
  {
   "cell_type": "code",
   "execution_count": 21,
   "metadata": {},
   "outputs": [],
   "source": [
    "driver = webdriver.Chrome(service = Service(ChromeDriverManager().install()))\n",
    "\n",
    "driver.get('https://www.etf.com/etfanalytics/etf-finder')"
   ]
  },
  {
   "cell_type": "markdown",
   "metadata": {},
   "source": [
    "# Passo 4: Conhecer e mapear o processo de coleta de dados no site do ETF.COM. \n",
    "\n",
    "Neste caso, deve-se entrar no site e entender como o processo seria feito de maneira manual, para assim entender como a automação deve ser feita."
   ]
  },
  {
   "cell_type": "markdown",
   "metadata": {},
   "source": [
    "# Passo 5.1: Achar todos os elementos necessários dentro do HTML do site -Expandindo a tabela para 100 itens. "
   ]
  },
  {
   "cell_type": "code",
   "execution_count": 22,
   "metadata": {},
   "outputs": [],
   "source": [
    "time.sleep(5)\n",
    "\n",
    "botao_100 = driver.find_element('xpath',\n",
    "                                '/html/body/div[5]/section/div/div[3]/section/div/div/div/div/div[2]/section[2]/div[2]/section[2]/div[1]/div/div[4]/button/label/span')\n",
    "\n",
    "driver.execute_script('arguments[0].click();', botao_100)\n",
    "#botao_100.click()"
   ]
  },
  {
   "cell_type": "markdown",
   "metadata": {},
   "source": [
    "# Passo 5.2: Achar todos os elementos necessários dentro do HTML do site - Pegando o número de páginas da tabela."
   ]
  },
  {
   "cell_type": "code",
   "execution_count": 23,
   "metadata": {},
   "outputs": [
    {
     "name": "stdout",
     "output_type": "stream",
     "text": [
      "32\n"
     ]
    }
   ],
   "source": [
    "numero_paginas_element = driver.find_element('xpath', '//*[@id=\"totalPages\"]')\n",
    "numero_paginas_text = numero_paginas_element.text\n",
    "match = re.search(r'(\\d+)', numero_paginas_text)\n",
    "if match:\n",
    "    numero_paginas = int(match.group(1))\n",
    "    print(numero_paginas)\n",
    "else:\n",
    "    print('Não foi possível extrair o numero de páginas.')"
   ]
  },
  {
   "cell_type": "code",
   "execution_count": null,
   "metadata": {},
   "outputs": [],
   "source": []
  }
 ],
 "metadata": {
  "kernelspec": {
   "display_name": "Python 3 (ipykernel)",
   "language": "python",
   "name": "python3"
  },
  "language_info": {
   "codemirror_mode": {
    "name": "ipython",
    "version": 3
   },
   "file_extension": ".py",
   "mimetype": "text/x-python",
   "name": "python",
   "nbconvert_exporter": "python",
   "pygments_lexer": "ipython3",
   "version": "3.9.2"
  }
 },
 "nbformat": 4,
 "nbformat_minor": 2
}
